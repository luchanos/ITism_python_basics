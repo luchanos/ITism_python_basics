{
 "cells": [
  {
   "cell_type": "markdown",
   "id": "09371e75",
   "metadata": {},
   "source": [
    "\n",
    "# Списки и кортежи в Python\n",
    "\n",
    "В этом разделе мы изучим две важные структуры данных в Python: списки и кортежи. Мы узнаем, как их создавать, индексировать, использовать срезы и применять методы списков.\n"
   ]
  },
  {
   "cell_type": "markdown",
   "id": "deb5250d",
   "metadata": {},
   "source": [
    "\n",
    "## Списки\n",
    "\n",
    "Список в Python - это упорядоченная коллекция объектов, которые могут быть разных типов. Списки изменяемы, что позволяет добавлять, удалять и изменять их элементы.\n"
   ]
  },
  {
   "cell_type": "code",
   "execution_count": 1,
   "id": "82891974",
   "metadata": {
    "ExecuteTime": {
     "end_time": "2024-02-16T15:24:18.214725Z",
     "start_time": "2024-02-16T15:24:18.211330Z"
    }
   },
   "outputs": [
    {
     "name": "stdout",
     "output_type": "stream",
     "text": [
      "['apple', 'banana', 'cherry']\n",
      "['apple', 'banana', 'cherry', 'orange']\n",
      "['apple', 'cherry', 'orange']\n",
      "apple\n",
      "['cherry', 'orange']\n"
     ]
    }
   ],
   "source": [
    "\n",
    "# Создание списка\n",
    "fruits = [\"apple\", \"banana\", \"cherry\"]\n",
    "print(fruits)\n",
    "\n",
    "# Добавление элемента в список\n",
    "fruits.append(\"orange\")\n",
    "print(fruits)\n",
    "\n",
    "# Удаление элемента из списка\n",
    "fruits.remove(\"banana\")\n",
    "print(fruits)\n",
    "\n",
    "# Доступ к элементу по индексу\n",
    "print(fruits[0])  # Первый элемент\n",
    "\n",
    "# Срезы списков\n",
    "print(fruits[1:3])  # Возвращает элементы со второго по третий\n"
   ]
  },
  {
   "cell_type": "markdown",
   "id": "3cf32737",
   "metadata": {},
   "source": [
    "\n",
    "## Кортежи\n",
    "\n",
    "Кортеж в Python - это упорядоченная коллекция объектов, похожая на список, но кортежи неизменяемы. Это означает, что после создания кортежа вы не можете изменить его элементы.\n"
   ]
  },
  {
   "cell_type": "code",
   "execution_count": null,
   "id": "30839f67",
   "metadata": {},
   "outputs": [],
   "source": [
    "\n",
    "# Создание кортежа\n",
    "fruits_tuple = (\"apple\", \"banana\", \"cherry\")\n",
    "print(fruits_tuple)\n",
    "\n",
    "# Доступ к элементу по индексу\n",
    "print(fruits_tuple[1])  # Второй элемент\n",
    "\n",
    "# Срезы кортежей\n",
    "print(fruits_tuple[1:3])  # Возвращает элементы со второго по третий\n"
   ]
  },
  {
   "cell_type": "markdown",
   "id": "48f214f6",
   "metadata": {},
   "source": [
    "\n",
    "## Срезы\n",
    "\n",
    "Срезы позволяют получить подмножество элементов из списка или кортежа. Синтаксис среза: `[начало:конец:шаг]`, где каждый из параметров необязателен.\n"
   ]
  },
  {
   "cell_type": "code",
   "execution_count": null,
   "id": "1ec00848",
   "metadata": {},
   "outputs": [],
   "source": [
    "\n",
    "numbers = list(range(10))  # Создаем список чисел от 0 до 9\n",
    "print(numbers[::2])  # Четные числа\n",
    "print(numbers[1::2])  # Нечетные числа\n",
    "print(numbers[::-1])  # Переворачиваем список\n"
   ]
  },
  {
   "cell_type": "markdown",
   "id": "8dfd46be",
   "metadata": {},
   "source": [
    "\n",
    "## Домашнее задание\n",
    "\n",
    "1. Создайте список, содержащий разные типы данных.\n",
    "2. Используйте срезы, чтобы получить различные подмножества этого списка.\n",
    "3. Добавьте новый элемент в список и удалите другой элемент.\n",
    "4. Создайте кортеж, содержащий несколько элементов, и продемонстрируйте доступ к элементам по индексу и использование срезов.\n"
   ]
  },
  {
   "cell_type": "markdown",
   "id": "cd4ebe55",
   "metadata": {},
   "source": [
    "\n",
    "## Разбор домашнего задания\n",
    "\n",
    "### Задача 1\n",
    "Создаем список с разными типами данных.\n"
   ]
  },
  {
   "cell_type": "code",
   "execution_count": null,
   "id": "21892107",
   "metadata": {},
   "outputs": [],
   "source": [
    "\n",
    "mixed_list = [42, 'apple', True, 3.14, None]\n",
    "print(mixed_list)\n"
   ]
  },
  {
   "cell_type": "markdown",
   "id": "e25ee181",
   "metadata": {},
   "source": [
    "\n",
    "### Задача 2\n",
    "Используем срезы для получения подмножеств списка.\n"
   ]
  },
  {
   "cell_type": "code",
   "execution_count": null,
   "id": "2e7b2350",
   "metadata": {},
   "outputs": [],
   "source": [
    "\n",
    "# Получаем первые три элемента\n",
    "print(mixed_list[:3])\n",
    "\n",
    "# Получаем последний элемент\n",
    "print(mixed_list[-1:])\n",
    "\n",
    "# Получаем элементы с четными индексами\n",
    "print(mixed_list[::2])\n"
   ]
  },
  {
   "cell_type": "markdown",
   "id": "16b11699",
   "metadata": {},
   "source": [
    "\n",
    "### Задача 3\n",
    "Добавляем и удаляем элементы из списка.\n"
   ]
  },
  {
   "cell_type": "code",
   "execution_count": null,
   "id": "c7d49198",
   "metadata": {},
   "outputs": [],
   "source": [
    "\n",
    "# Добавление элемента\n",
    "mixed_list.append('new item')\n",
    "print(mixed_list)\n",
    "\n",
    "# Удаление элемента\n",
    "mixed_list.remove(True)\n",
    "print(mixed_list)\n"
   ]
  },
  {
   "cell_type": "markdown",
   "id": "d9bd6611",
   "metadata": {},
   "source": [
    "\n",
    "### Задача 4\n",
    "Создаем кортеж и демонстрируем доступ к элементам и использование срезов.\n"
   ]
  },
  {
   "cell_type": "code",
   "execution_count": null,
   "id": "4ac43e01",
   "metadata": {},
   "outputs": [],
   "source": [
    "\n",
    "# Создание кортежа\n",
    "example_tuple = (1, 'two', 3.0, True)\n",
    "print(example_tuple)\n",
    "\n",
    "# Доступ к элементу\n",
    "print(example_tuple[1])\n",
    "\n",
    "# Срезы кортежа\n",
    "print(example_tuple[1:3])\n"
   ]
  }
 ],
 "metadata": {
  "kernelspec": {
   "name": "python3",
   "language": "python",
   "display_name": "Python 3 (ipykernel)"
  }
 },
 "nbformat": 4,
 "nbformat_minor": 5
}
