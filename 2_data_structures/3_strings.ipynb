{
 "cells": [
  {
   "cell_type": "markdown",
   "id": "0d6c9d80",
   "metadata": {},
   "source": [
    "# Работа со строками в Python\n",
    "\n",
    "В этом разделе мы изучим, как в Python работать со строками, выполнять манипуляции и использовать методы строк."
   ]
  },
  {
   "cell_type": "markdown",
   "id": "0232492b",
   "metadata": {},
   "source": [
    "## Основы работы со строками\n",
    "\n",
    "Строки в Python - это последовательности символов, заключенные в кавычки. Давайте рассмотрим некоторые основные операции со строками."
   ]
  },
  {
   "cell_type": "code",
   "execution_count": null,
   "id": "fdb21ae6",
   "metadata": {},
   "outputs": [],
   "source": [
    "hello = 'Привет, мир!'\n",
    "print(hello)"
   ]
  },
  {
   "cell_type": "markdown",
   "id": "69acc86a",
   "metadata": {},
   "source": [
    "## Манипуляции со строками\n",
    "\n",
    "Python предоставляет множество операций для манипуляций со строками, таких как конкатенация (сложение строк), повторение и так далее."
   ]
  },
  {
   "cell_type": "code",
   "execution_count": null,
   "id": "baede7ed",
   "metadata": {},
   "outputs": [],
   "source": [
    "# Конкатенация строк\n",
    "first_name = 'Анна'\n",
    "last_name = 'Каренина'\n",
    "full_name = first_name + ' ' + last_name\n",
    "print(full_name)\n",
    "\n",
    "# Повторение строки\n",
    "laugh = 'Ha ' * 3\n",
    "print(laugh)"
   ]
  },
  {
   "cell_type": "markdown",
   "id": "04b99c38",
   "metadata": {},
   "source": [
    "## Методы строк\n",
    "\n",
    "У строк в Python есть множество встроенных методов, которые позволяют выполнять различные манипуляции и проверки. Вот некоторые из наиболее часто используемых методов:"
   ]
  },
  {
   "cell_type": "code",
   "execution_count": null,
   "id": "b0148b1a",
   "metadata": {},
   "outputs": [],
   "source": [
    "# Примеры методов строк\n",
    "example_str = 'Python is awesome'\n",
    "\n",
    "# Преобразование в верхний регистр\n",
    "print(example_str.upper())\n",
    "\n",
    "# Поиск подстроки\n",
    "print(example_str.find('is'))\n",
    "\n",
    "# Замена подстроки\n",
    "print(example_str.replace('awesome', 'great'))"
   ]
  },
  {
   "cell_type": "markdown",
   "id": "c47dabe2",
   "metadata": {},
   "source": [
    "## Домашнее задание\n",
    "\n",
    "1. Создайте строку 'Python is fun!' и сохраните ее в переменной.\n",
    "2. Напишите код, который выводит длину этой строки.\n",
    "3. Используйте метод строки для преобразования всех символов в верхний регистр.\n",
    "4. Найдите индекс подстроки 'fun' в вашей строке."
   ]
  },
  {
   "cell_type": "markdown",
   "id": "5e09b571",
   "metadata": {},
   "source": [
    "## Разбор домашнего задания\n",
    "\n",
    "Вот как можно решить задачи из домашнего задания:"
   ]
  },
  {
   "cell_type": "code",
   "execution_count": null,
   "id": "7a5805ba",
   "metadata": {},
   "outputs": [],
   "source": [
    "# Решение домашнего задания\n",
    "my_str = 'Python is fun!'\n",
    "print(len(my_str))  # Длина строки\n",
    "print(my_str.upper())  # Преобразование в верхний регистр\n",
    "print(my_str.find('fun'))  # Поиск подстроки 'fun'"
   ]
  }
 ],
 "metadata": {},
 "nbformat": 4,
 "nbformat_minor": 5
}
