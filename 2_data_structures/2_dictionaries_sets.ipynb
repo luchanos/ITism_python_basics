{
 "cells": [
  {
   "cell_type": "markdown",
   "id": "473402db",
   "metadata": {},
   "source": [
    "\n",
    "# Словари и множества в Python\n",
    "\n",
    "В этом ноутбуке мы изучим словари и множества в Python: как их создавать, использовать и какие методы они предлагают.\n"
   ]
  },
  {
   "cell_type": "markdown",
   "id": "c808630b",
   "metadata": {},
   "source": [
    "\n",
    "## Словари\n",
    "\n",
    "Словарь в Python — это неупорядоченная коллекция элементов. Каждый элемент словаря хранится как пара ключ-значение. Словари оптимизированы для извлечения данных. Вы можете получить доступ к элементам с помощью ключей.\n",
    "\n",
    "### Создание словаря\n"
   ]
  },
  {
   "cell_type": "code",
   "execution_count": null,
   "id": "bf6ee29a",
   "metadata": {},
   "outputs": [],
   "source": [
    "\n",
    "# Создание словаря\n",
    "my_dict = {'name': 'Alice', 'age': 25}\n",
    "\n",
    "# Добавление элемента\n",
    "my_dict['email'] = 'alice@example.com'\n",
    "print(my_dict)\n",
    "\n",
    "# Получение элемента\n",
    "print(my_dict['name'])\n"
   ]
  },
  {
   "cell_type": "markdown",
   "id": "dbe91207",
   "metadata": {},
   "source": [
    "\n",
    "### Методы словаря\n",
    "\n",
    "Словари в Python имеют различные встроенные методы, которые упрощают работу с ними.\n"
   ]
  },
  {
   "cell_type": "code",
   "execution_count": null,
   "id": "57a964ec",
   "metadata": {},
   "outputs": [],
   "source": [
    "\n",
    "# keys(), values(), items()\n",
    "print(my_dict.keys())\n",
    "print(my_dict.values())\n",
    "print(my_dict.items())\n",
    "\n",
    "# get()\n",
    "print(my_dict.get('age'))\n",
    "\n",
    "# update()\n",
    "my_dict.update({'age': 26})\n",
    "print(my_dict)\n"
   ]
  },
  {
   "cell_type": "markdown",
   "id": "0e8cea12",
   "metadata": {},
   "source": [
    "\n",
    "## Множества\n",
    "\n",
    "Множество в Python — это неупорядоченная коллекция уникальных элементов. Множества подходят для операций, включающих пересечения, объединения и разности.\n",
    "\n",
    "### Создание множества\n"
   ]
  },
  {
   "cell_type": "code",
   "execution_count": null,
   "id": "83f290e1",
   "metadata": {},
   "outputs": [],
   "source": [
    "\n",
    "# Создание множества\n",
    "my_set = {1, 2, 3, 4, 5}\n",
    "print(my_set)\n",
    "\n",
    "# Добавление элемента\n",
    "my_set.add(6)\n",
    "print(my_set)\n"
   ]
  },
  {
   "cell_type": "markdown",
   "id": "7a1a5b26",
   "metadata": {},
   "source": [
    "\n",
    "### Методы множества\n",
    "\n",
    "Множества предоставляют различные встроенные методы.\n"
   ]
  },
  {
   "cell_type": "code",
   "execution_count": null,
   "id": "f5913220",
   "metadata": {},
   "outputs": [],
   "source": [
    "\n",
    "# union(), intersection(), difference()\n",
    "another_set = {4, 5, 6, 7}\n",
    "print(my_set.union(another_set))\n",
    "print(my_set.intersection(another_set))\n",
    "print(my_set.difference(another_set))\n"
   ]
  },
  {
   "cell_type": "markdown",
   "id": "5dee8034",
   "metadata": {},
   "source": [
    "\n",
    "## Домашнее задание\n",
    "\n",
    "1. Создайте словарь, представляющий ваш любимый фильм. Должны быть ключи: название, год выпуска, жанр, режиссер.\n",
    "2. Создайте множество, содержащее жанры фильмов, которые вам нравятся.\n",
    "3. Используйте методы для множеств, чтобы найти пересечение между жанрами вашего любимого фильма и множеством любимых жанров.\n"
   ]
  },
  {
   "cell_type": "markdown",
   "id": "e76bf83a",
   "metadata": {},
   "source": [
    "\n",
    "## Разбор домашнего задания\n",
    "\n",
    "### Решение задачи 1\n",
    "Для создания словаря, представляющего фильм, можно использовать следующий код:\n"
   ]
  },
  {
   "cell_type": "code",
   "execution_count": null,
   "id": "81e0e1f6",
   "metadata": {},
   "outputs": [],
   "source": [
    "\n",
    "my_favorite_movie = {\n",
    "    'title': 'Inception',\n",
    "    'year': 2010,\n",
    "    'genre': 'Science Fiction',\n",
    "    'director': 'Christopher Nolan'\n",
    "}\n",
    "print(my_favorite_movie)\n"
   ]
  },
  {
   "cell_type": "markdown",
   "id": "1e3a54ac",
   "metadata": {},
   "source": [
    "\n",
    "### Решение задачи 2\n",
    "Создание множества любимых жанров:\n"
   ]
  },
  {
   "cell_type": "code",
   "execution_count": null,
   "id": "04238d6b",
   "metadata": {},
   "outputs": [],
   "source": [
    "\n",
    "favorite_genres = {'Science Fiction', 'Adventure', 'Drama', 'Thriller'}\n",
    "print(favorite_genres)\n"
   ]
  },
  {
   "cell_type": "markdown",
   "id": "0241e46f",
   "metadata": {},
   "source": [
    "\n",
    "### Решение задачи 3\n",
    "Использование методов множеств для нахождения пересечения жанров:\n"
   ]
  },
  {
   "cell_type": "code",
   "execution_count": null,
   "id": "42198664",
   "metadata": {},
   "outputs": [],
   "source": [
    "\n",
    "# Предполагая, что жанр фильма может быть представлен списком для фильмов с несколькими жанрами\n",
    "movie_genres = {my_favorite_movie['genre']}\n",
    "common_genres = favorite_genres.intersection(movie_genres)\n",
    "print(f\"Общие жанры: {common_genres}\")\n"
   ]
  }
 ],
 "metadata": {},
 "nbformat": 4,
 "nbformat_minor": 5
}
