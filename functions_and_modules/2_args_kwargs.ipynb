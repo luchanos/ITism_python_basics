{
 "cells": [
  {
   "cell_type": "markdown",
   "id": "2f17a01f",
   "metadata": {},
   "source": [
    "\n",
    "# Определение и вызов функций: args, kwargs и аргументы по умолчанию\n",
    "\n",
    "В этом уроке мы углубимся в продвинутые возможности определения и вызова функций в Python, а именно использование `*args`, `**kwargs` и аргументов по умолчанию.\n",
    "\n",
    "## Аргументы по умолчанию\n",
    "\n",
    "Аргументы по умолчанию позволяют задать значения параметров функции, которые будут использоваться, если при вызове функции соответствующие аргументы не предоставлены.\n",
    "\n",
    "Пример:\n",
    "```python\n",
    "def greet(name, message=\"Hello\"):\n",
    "    print(f\"{message}, {name}!\")\n",
    "```\n"
   ]
  },
  {
   "cell_type": "code",
   "execution_count": null,
   "id": "6a2ca314",
   "metadata": {},
   "outputs": [],
   "source": [
    "\n",
    "# Пример функции с аргументом по умолчанию\n",
    "def greet(name, message=\"Hello\"):\n",
    "    print(f\"{message}, {name}!\")\n",
    "\n",
    "greet(\"Alice\")\n",
    "greet(\"Bob\", \"Goodbye\")\n"
   ]
  },
  {
   "cell_type": "markdown",
   "id": "cff4d6e7",
   "metadata": {},
   "source": [
    "\n",
    "## Использование `*args`\n",
    "\n",
    "`*args` позволяет функции принимать произвольное количество позиционных аргументов. Эти аргументы доступны внутри функции в виде кортежа.\n",
    "\n",
    "Пример:\n",
    "```python\n",
    "def sum_numbers(*args):\n",
    "    return sum(args)\n",
    "```\n"
   ]
  },
  {
   "cell_type": "code",
   "execution_count": null,
   "id": "ef853e21",
   "metadata": {},
   "outputs": [],
   "source": [
    "\n",
    "# Пример функции с *args\n",
    "def sum_numbers(*args):\n",
    "    return sum(args)\n",
    "\n",
    "print(sum_numbers(1, 2, 3, 4))\n"
   ]
  },
  {
   "cell_type": "markdown",
   "id": "ed1a9d96",
   "metadata": {},
   "source": [
    "\n",
    "## Использование `**kwargs`\n",
    "\n",
    "`**kwargs` позволяет функции принимать произвольное количество именованных аргументов. Эти аргументы доступны внутри функции в виде словаря.\n",
    "\n",
    "Пример:\n",
    "```python\n",
    "def print_info(**kwargs):\n",
    "    for key, value in kwargs.items():\n",
    "        print(f\"{key}: {value}\")\n",
    "```\n"
   ]
  },
  {
   "cell_type": "code",
   "execution_count": null,
   "id": "1ad91ad2",
   "metadata": {},
   "outputs": [],
   "source": [
    "\n",
    "# Пример функции с **kwargs\n",
    "def print_info(**kwargs):\n",
    "    for key, value in kwargs.items():\n",
    "        print(f\"{key}: {value}\")\n",
    "\n",
    "print_info(name=\"Alice\", age=30, city=\"New York\")\n"
   ]
  },
  {
   "cell_type": "markdown",
   "id": "90bd0ccb",
   "metadata": {},
   "source": [
    "\n",
    "## Домашнее задание\n",
    "\n",
    "1. Создайте функцию `describe_pet`, которая принимает имя животного и произвольное количество именованных атрибутов его описания через `**kwargs`. Функция должна печатать имя и все атрибуты и их значения.\n",
    "2. Напишите функцию `concat_strings`, которая принимает произвольное количество строк (`*args`) и соединяет их в одну строку через пробел.\n"
   ]
  },
  {
   "cell_type": "markdown",
   "id": "4e1be588",
   "metadata": {},
   "source": [
    "\n",
    "## Разбор домашнего задания\n",
    "\n",
    "### Задание 1\n",
    "```python\n",
    "def describe_pet(name, **kwargs):\n",
    "    print(f\"Pet name: {name}\")\n",
    "    for key, value in kwargs.items():\n",
    "        print(f\"{key}: {value}\")\n",
    "```\n",
    "\n",
    "### Задание 2\n",
    "```python\n",
    "def concat_strings(*args):\n",
    "    return ' '.join(args)\n",
    "```\n"
   ]
  }
 ],
 "metadata": {},
 "nbformat": 4,
 "nbformat_minor": 5
}
