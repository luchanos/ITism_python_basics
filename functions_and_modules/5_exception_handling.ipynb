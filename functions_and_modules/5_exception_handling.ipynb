{
 "cells": [
  {
   "cell_type": "markdown",
   "id": "7988f297",
   "metadata": {},
   "source": [
    "# Обработка исключений в Python\n",
    "\n",
    "Обработка исключений - ключевая часть написания надежного кода. В этом ноутбуке мы рассмотрим, как Python позволяет обрабатывать исключения с помощью конструкций `try`, `except`, `finally`, и `else`.\n"
   ]
  },
  {
   "cell_type": "markdown",
   "id": "9a155b57",
   "metadata": {},
   "source": [
    "## Использование try и except\n",
    "\n",
    "Блок `try` позволяет тестировать блок кода на наличие ошибок. Блок `except` позволяет обработать ошибку.\n"
   ]
  },
  {
   "cell_type": "code",
   "execution_count": null,
   "id": "a428cbf3",
   "metadata": {},
   "outputs": [],
   "source": [
    "try:\n",
    "    print(\"Попытаемся выполнить деление на ноль\")\n",
    "    result = 10 / 0\n",
    "except ZeroDivisionError:\n",
    "    print(\"Произошла ошибка: деление на ноль!\")\n"
   ]
  },
  {
   "cell_type": "markdown",
   "id": "15f64b23",
   "metadata": {},
   "source": [
    "## Использование finally\n",
    "\n",
    "Блок `finally` выполняется в любом случае после `try` и `except`, независимо от того, было ли перехвачено исключение.\n"
   ]
  },
  {
   "cell_type": "code",
   "execution_count": null,
   "id": "a599708c",
   "metadata": {},
   "outputs": [],
   "source": [
    "try:\n",
    "    print(\"Открываем файл.\")\n",
    "    file = open(\"не_существующий_файл.txt\")\n",
    "    print(\"Читаем файл.\")\n",
    "except IOError:\n",
    "    print(\"Ошибка при работе с файлом.\")\n",
    "finally:\n",
    "    print(\"Блок finally выполняется всегда.\")\n"
   ]
  },
  {
   "cell_type": "markdown",
   "id": "c87dbf89",
   "metadata": {},
   "source": [
    "## Использование else с обработкой исключений\n",
    "\n",
    "Блок `else` выполняется, если в блоке `try` не возникло исключений.\n"
   ]
  },
  {
   "cell_type": "code",
   "execution_count": null,
   "id": "bb201ee6",
   "metadata": {},
   "outputs": [],
   "source": [
    "try:\n",
    "    print(\"Проверяем число.\")\n",
    "    number = int(\"123\")\n",
    "except ValueError:\n",
    "    print(\"Некорректное число!\")\n",
    "else:\n",
    "    print(\"Преобразование прошло успешно.\")\n"
   ]
  },
  {
   "cell_type": "markdown",
   "id": "7425cbdd",
   "metadata": {},
   "source": [
    "## Домашнее задание\n",
    "\n",
    "1. Напишите функцию, которая запрашивает у пользователя ввод числа и возвращает это число. Используйте блоки `try` и `except` для обработки ситуации, когда введено не число.\n",
    "2. Добавьте обработку исключения, которое возникает при вводе специфических значений (например, пустой строки) и выводите соответствующее сообщение.\n"
   ]
  },
  {
   "cell_type": "markdown",
   "id": "33e5924e",
   "metadata": {},
   "source": [
    "## Разбор домашнего задания\n",
    "\n",
    "### Пример решения\n"
   ]
  },
  {
   "cell_type": "code",
   "execution_count": null,
   "id": "d6cdf921",
   "metadata": {},
   "outputs": [],
   "source": [
    "try:\n",
    "    with open(\"nonexistent_file.txt\", \"r\") as file:\n",
    "        content = file.read()\n",
    "        print(content)\n",
    "except FileNotFoundError:\n",
    "    print(\"Файл не найден.\")\n",
    "finally:\n",
    "    print(\"Попытка чтения файла завершена.\")\n"
   ]
  }
 ],
 "metadata": {},
 "nbformat": 4,
 "nbformat_minor": 5
}
