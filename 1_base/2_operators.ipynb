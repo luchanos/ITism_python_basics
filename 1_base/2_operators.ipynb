{
 "cells": [
  {
   "cell_type": "markdown",
   "id": "07a24144",
   "metadata": {},
   "source": [
    "\n",
    "# Операторы в Python\n",
    "\n",
    "В этом ноутбуке мы рассмотрим основные операторы в Python, включая арифметические, операторы сравнения и операторы присваивания.\n"
   ]
  },
  {
   "cell_type": "markdown",
   "id": "9783573f",
   "metadata": {},
   "source": [
    "\n",
    "## Арифметические операторы\n",
    "\n",
    "Арифметические операторы используются для выполнения математических операций.\n"
   ]
  },
  {
   "cell_type": "code",
   "execution_count": 1,
   "id": "2ce8dcd9",
   "metadata": {
    "ExecuteTime": {
     "end_time": "2024-02-15T21:42:34.276073Z",
     "start_time": "2024-02-15T21:42:34.272965Z"
    }
   },
   "outputs": [
    {
     "name": "stdout",
     "output_type": "stream",
     "text": [
      "13\n",
      "7\n",
      "30\n",
      "3.3333333333333335\n",
      "1\n",
      "1000\n",
      "3\n"
     ]
    }
   ],
   "source": [
    "\n",
    "a = 10\n",
    "b = 3\n",
    "print(a + b)  # Сложение\n",
    "print(a - b)  # Вычитание\n",
    "print(a * b)  # Умножение\n",
    "print(a / b)  # Деление\n",
    "print(a % b)  # Остаток от деления\n",
    "print(a ** b) # Возведение в степень\n",
    "print(a // b) # Деление нацело\n"
   ]
  },
  {
   "cell_type": "markdown",
   "id": "dd22a7f1",
   "metadata": {},
   "source": [
    "\n",
    "## Операторы сравнения\n",
    "\n",
    "Операторы сравнения используются для сравнения двух значений.\n"
   ]
  },
  {
   "cell_type": "code",
   "execution_count": 2,
   "id": "a212681c",
   "metadata": {
    "ExecuteTime": {
     "end_time": "2024-02-15T21:42:38.271225Z",
     "start_time": "2024-02-15T21:42:38.264495Z"
    }
   },
   "outputs": [
    {
     "name": "stdout",
     "output_type": "stream",
     "text": [
      "False\n",
      "True\n",
      "False\n",
      "True\n",
      "False\n",
      "True\n"
     ]
    }
   ],
   "source": [
    "\n",
    "x = 5\n",
    "y = 10\n",
    "print(x == y)  # Равно\n",
    "print(x != y)  # Не равно\n",
    "print(x > y)   # Больше\n",
    "print(x < y)   # Меньше\n",
    "print(x >= y)  # Больше или равно\n",
    "print(x <= y)  # Меньше или равно\n"
   ]
  },
  {
   "cell_type": "markdown",
   "id": "beb29512",
   "metadata": {},
   "source": [
    "\n",
    "## Операторы присваивания\n",
    "\n",
    "Операторы присваивания используются для присвоения значений переменным.\n"
   ]
  },
  {
   "cell_type": "code",
   "execution_count": 3,
   "id": "4d488d98",
   "metadata": {
    "ExecuteTime": {
     "end_time": "2024-02-15T21:42:41.590089Z",
     "start_time": "2024-02-15T21:42:41.569385Z"
    }
   },
   "outputs": [
    {
     "name": "stdout",
     "output_type": "stream",
     "text": [
      "5\n",
      "10\n"
     ]
    }
   ],
   "source": [
    "\n",
    "x = 2\n",
    "x += 3  # x = x + 3\n",
    "print(x)  # 5\n",
    "x *= 2  # x = x * 2\n",
    "print(x)  # 10\n"
   ]
  },
  {
   "cell_type": "code",
   "execution_count": null,
   "outputs": [],
   "source": [],
   "metadata": {
    "collapsed": false
   }
  }
 ],
 "metadata": {
  "kernelspec": {
   "name": "python3",
   "language": "python",
   "display_name": "Python 3 (ipykernel)"
  }
 },
 "nbformat": 4,
 "nbformat_minor": 5
}
