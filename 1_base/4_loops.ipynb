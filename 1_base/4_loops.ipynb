{
 "cells": [
  {
   "cell_type": "markdown",
   "id": "041d7c4e",
   "metadata": {},
   "source": [
    "\n",
    "# Циклы в Python\n",
    "\n",
    "Циклы в Python - это базовые конструкции, используемые для повторения блока кода несколько раз. Python предоставляет два основных типа циклов: `for` и `while`.\n"
   ]
  },
  {
   "cell_type": "markdown",
   "id": "a7113b65",
   "metadata": {},
   "source": [
    "\n",
    "## Цикл For\n",
    "\n",
    "Цикл `for` используется для итерации по элементам последовательности (например, списка, кортежа, словаря, множества или строки).\n",
    "\n",
    "Синтаксис:\n",
    "\n",
    "```python\n",
    "for variable in sequence:\n",
    "    # Действия\n",
    "```\n"
   ]
  },
  {
   "cell_type": "code",
   "execution_count": 2,
   "id": "94cd55a0",
   "metadata": {
    "ExecuteTime": {
     "end_time": "2024-03-17T22:45:38.453493Z",
     "start_time": "2024-03-17T22:45:38.451813Z"
    }
   },
   "outputs": [
    {
     "name": "stdout",
     "output_type": "stream",
     "text": [
      "0\n",
      "1\n",
      "2\n",
      "3\n",
      "4\n",
      "5\n",
      "6\n",
      "7\n",
      "8\n",
      "9\n"
     ]
    }
   ],
   "source": [
    "# Пример использования цикла for\n",
    "my_list = [0, 1, 2, 3, 4, 5, 6, 7, 8, 9]\n",
    "for el in my_list:\n",
    "    print(el)\n"
   ]
  },
  {
   "cell_type": "markdown",
   "id": "5d4b24db",
   "metadata": {},
   "source": [
    "\n",
    "## Цикл While\n",
    "\n",
    "Цикл `while` выполняется, пока условие истинно.\n",
    "\n",
    "Синтаксис:\n",
    "\n",
    "```python\n",
    "while condition:\n",
    "    # Действия\n",
    "```\n"
   ]
  },
  {
   "cell_type": "code",
   "execution_count": null,
   "id": "87725331",
   "metadata": {},
   "outputs": [],
   "source": [
    "\n",
    "# Пример использования цикла while\n",
    "i = 0\n",
    "while i < 5:\n",
    "    print(i)\n",
    "    i += 1\n"
   ]
  },
  {
   "cell_type": "markdown",
   "id": "833b5fad",
   "metadata": {},
   "source": [
    "\n",
    "## Управление циклом: break и continue\n",
    "\n",
    "- `break` используется для выхода из цикла.\n",
    "- `continue` пропускает оставшуюся часть кода в текущей итерации и переходит к следующей итерации.\n"
   ]
  },
  {
   "cell_type": "code",
   "execution_count": null,
   "id": "cf84212e",
   "metadata": {},
   "outputs": [],
   "source": [
    "\n",
    "# Примеры использования break и continue\n",
    "for i in range(10):\n",
    "    if i == 5:\n",
    "        break\n",
    "    print(i)\n",
    "\n",
    "for i in range(10):\n",
    "    if i % 2 == 0:\n",
    "        continue\n",
    "    print(i)\n"
   ]
  },
  {
   "cell_type": "markdown",
   "id": "44ca654b",
   "metadata": {},
   "source": [
    "\n",
    "## Домашнее задание\n",
    "\n",
    "1. Напишите цикл `for`, который выводит числа от 1 до 10.\n",
    "2. Используя цикл `while`, создайте цикл, который запрашивает у пользователя ввод числа и продолжается, пока пользователь не введет `0`.\n",
    "3. Используйте `break`, чтобы выйти из цикла, если пользователь ввел `0`, и `continue`, чтобы пропустить четные числа в цикле от 1 до 10.\n"
   ]
  },
  {
   "cell_type": "code",
   "execution_count": null,
   "id": "86ce8d54",
   "metadata": {},
   "outputs": [],
   "source": [
    "\n",
    "# Разбор домашнего задания\n",
    "\n",
    "# Задание 1\n",
    "for i in range(1, 11):\n",
    "    print(i)\n",
    "\n",
    "# Задание 2\n",
    "number = int(input(\"Введите число (или 0 для выхода): \"))\n",
    "while number != 0:\n",
    "    number = int(input(\"Введите число (или 0 для выхода): \"))\n",
    "\n",
    "# Задание 3\n",
    "for i in range(1, 11):\n",
    "    if i % 2 == 0:\n",
    "        continue\n",
    "    print(i)\n"
   ]
  }
 ],
 "metadata": {
  "kernelspec": {
   "name": "python3",
   "language": "python",
   "display_name": "Python 3 (ipykernel)"
  }
 },
 "nbformat": 4,
 "nbformat_minor": 5
}
