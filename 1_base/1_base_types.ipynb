{
 "cells": [
  {
   "cell_type": "markdown",
   "source": [
    "<h1>Переменные и типы данных в Python</h1>\n",
    "\n",
    "В этом разделе мы рассмотрим основы работы с переменными в Python, а также изучим основные типы данных: числа, строки и булевы значения. Понимание этих основ является краеугольным камнем для успешного освоения программирования на Python.\n",
    "\n",
    "<h2>Переменные</h2>\n",
    "\n",
    "Переменная в Python — это контейнер для хранения данных, значение которого можно изменять в процессе выполнения программы. Имена переменных должны начинаться с буквы или подчеркивания и могут содержать буквы, цифры и подчеркивания. Python является языком с динамической типизацией, что означает, что тип переменной определяется автоматически в момент присваивания ей значения."
   ],
   "metadata": {
    "collapsed": false
   }
  },
  {
   "cell_type": "code",
   "execution_count": 3,
   "outputs": [
    {
     "name": "stdout",
     "output_type": "stream",
     "text": [
      "SavelySavelySavelySavelySavelySavelySavelySavelySavelySavely\n"
     ]
    }
   ],
   "source": [
    "x = 5        # Целое число (int)\n",
    "y = 3.14     # Вещественное число (float)\n",
    "name = \"Alice\" # Строка (str)\n",
    "is_online = True # Булево значение (bool)"
   ],
   "metadata": {
    "collapsed": false,
    "ExecuteTime": {
     "end_time": "2024-02-16T15:23:16.794613Z",
     "start_time": "2024-02-16T15:23:16.779021Z"
    }
   }
  },
  {
   "cell_type": "markdown",
   "source": [
    "<h3>Числа</h3>\n",
    "\n",
    "В Python есть два основных типа чисел:\n",
    "- Целые числа (int) представляют собой положительные или отрицательные целые числа без десятичной части.\n",
    "- Вещественные числа (float): это числа с десятичной точкой или в экспоненциальной форме."
   ],
   "metadata": {
    "collapsed": false
   }
  },
  {
   "cell_type": "code",
   "execution_count": 6,
   "outputs": [],
   "source": [
    "integer_example = 10      # Пример целого числа\n",
    "float_example = 20.5      # Пример вещественного числа"
   ],
   "metadata": {
    "collapsed": false,
    "ExecuteTime": {
     "end_time": "2024-02-15T21:16:31.921494Z",
     "start_time": "2024-02-15T21:16:31.920122Z"
    }
   }
  },
  {
   "cell_type": "markdown",
   "source": [
    "<h3>Строки</h3>\n",
    "\n",
    "Строки в Python определяются как последовательности символов и заключаются в одинарные ('...') или двойные (\"...\") кавычки. Для многострочного текста можно использовать тройные кавычки ('''...''' или \"\"\"...\"\"\")."
   ],
   "metadata": {
    "collapsed": false
   }
  },
  {
   "cell_type": "code",
   "execution_count": 7,
   "outputs": [],
   "source": [
    "single_quote_str = 'Привет, мир!'\n",
    "double_quote_str = \"Привет, мир!\"\n",
    "multi_line_str = \"\"\"Это\n",
    "многострочная\n",
    "строка\"\"\""
   ],
   "metadata": {
    "collapsed": false,
    "ExecuteTime": {
     "end_time": "2024-02-15T21:17:37.692725Z",
     "start_time": "2024-02-15T21:17:37.683655Z"
    }
   }
  },
  {
   "cell_type": "markdown",
   "source": [
    "Строки в Python поддерживают конкатенацию (+), повторение (*) и множество других операций и методов, что делает работу со строками гибкой и удобной."
   ],
   "metadata": {
    "collapsed": false
   }
  },
  {
   "cell_type": "code",
   "execution_count": 10,
   "outputs": [
    {
     "name": "stdout",
     "output_type": "stream",
     "text": [
      "Привет, мир!Привет, мир!Привет, мир!Привет, мир!Привет, мир!Привет, мир!Привет, мир!Привет, мир!Привет, мир!Привет, мир!\n",
      "##########\n",
      "Привет, мир! Это\n",
      "многострочная\n",
      "строка\n"
     ]
    }
   ],
   "source": [
    "print(single_quote_str * 10)\n",
    "print(\"#\" * 10)\n",
    "print(single_quote_str + \" \" + multi_line_str)"
   ],
   "metadata": {
    "collapsed": false,
    "ExecuteTime": {
     "end_time": "2024-02-15T21:30:14.629737Z",
     "start_time": "2024-02-15T21:30:14.626910Z"
    }
   }
  },
  {
   "cell_type": "markdown",
   "source": [
    "<h3>Булевы значения</h3>\n",
    "\n",
    "Булев тип данных (bool) может принимать одно из двух значений: True (истина) или False (ложь). Они часто используются для условных выражений и логических операций."
   ],
   "metadata": {
    "collapsed": false
   }
  },
  {
   "cell_type": "code",
   "execution_count": 11,
   "outputs": [],
   "source": [
    "is_active = True\n",
    "is_registered = False"
   ],
   "metadata": {
    "collapsed": false,
    "ExecuteTime": {
     "end_time": "2024-02-15T21:31:15.394631Z",
     "start_time": "2024-02-15T21:31:15.388819Z"
    }
   }
  },
  {
   "cell_type": "markdown",
   "source": [
    "Булевы значения часто получаются в результате сравнений и логических операций:"
   ],
   "metadata": {
    "collapsed": false
   }
  },
  {
   "cell_type": "code",
   "execution_count": 13,
   "outputs": [
    {
     "name": "stdout",
     "output_type": "stream",
     "text": [
      "True\n"
     ]
    }
   ],
   "source": [
    "a = 5\n",
    "b = 10\n",
    "result = a < b  # True, потому что 5 меньше 10\n",
    "print(result)"
   ],
   "metadata": {
    "collapsed": false,
    "ExecuteTime": {
     "end_time": "2024-02-15T21:31:45.976685Z",
     "start_time": "2024-02-15T21:31:45.972995Z"
    }
   }
  },
  {
   "cell_type": "code",
   "execution_count": null,
   "outputs": [],
   "source": [],
   "metadata": {
    "collapsed": false
   }
  }
 ],
 "metadata": {
  "kernelspec": {
   "display_name": "Python 3",
   "language": "python",
   "name": "python3"
  },
  "language_info": {
   "codemirror_mode": {
    "name": "ipython",
    "version": 2
   },
   "file_extension": ".py",
   "mimetype": "text/x-python",
   "name": "python",
   "nbconvert_exporter": "python",
   "pygments_lexer": "ipython2",
   "version": "2.7.6"
  }
 },
 "nbformat": 4,
 "nbformat_minor": 0
}
