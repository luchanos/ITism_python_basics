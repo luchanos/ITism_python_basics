{
 "cells": [
  {
   "cell_type": "markdown",
   "id": "e1ad1bad",
   "metadata": {},
   "source": [
    "# Импорт модулей и использование библиотек\n",
    "\n",
    "В этом ноутбуке мы рассмотрим, как в Python использовать модули и библиотеки, какие преимущества это дает при разработке программ.\n"
   ]
  },
  {
   "cell_type": "markdown",
   "id": "072536bd",
   "metadata": {},
   "source": [
    "## Импортирование стандартных модулей\n",
    "\n",
    "Python поставляется со встроенной стандартной библиотекой, которая предоставляет доступ к ряду полезных функций. Давайте рассмотрим пример использования модуля `math`.\n"
   ]
  },
  {
   "cell_type": "code",
   "execution_count": null,
   "id": "63e9f9da",
   "metadata": {},
   "outputs": [],
   "source": [
    "import math\n",
    "\n",
    "print(math.sqrt(16))\n"
   ]
  },
  {
   "cell_type": "markdown",
   "id": "ea86d1bb",
   "metadata": {},
   "source": [
    "## Использование pip для установки сторонних библиотек\n",
    "\n",
    "`pip` — это система управления пакетами, используемая для установки и управления программными пакетами, написанными на Python. Давайте рассмотрим, как установить стороннюю библиотеку, например `requests`.\n"
   ]
  },
  {
   "cell_type": "code",
   "execution_count": null,
   "id": "9e54e913",
   "metadata": {},
   "outputs": [],
   "source": [
    "# !pip install requests\n"
   ]
  },
  {
   "cell_type": "markdown",
   "id": "988cf8ec",
   "metadata": {},
   "source": [
    "## Пример работы с библиотекой requests\n",
    "\n",
    "После установки библиотеки `requests` мы можем использовать ее для отправки HTTP-запросов. Вот пример отправки GET-запроса.\n"
   ]
  },
  {
   "cell_type": "code",
   "execution_count": null,
   "id": "6d9efeae",
   "metadata": {},
   "outputs": [],
   "source": [
    "import requests\n",
    "\n",
    "response = requests.get('https://api.github.com')\n",
    "print(response.status_code)\n"
   ]
  },
  {
   "cell_type": "markdown",
   "id": "9f143fb7",
   "metadata": {},
   "source": [
    "## Домашнее задание\n",
    "\n",
    "1. Используйте модуль `datetime` для получения и вывода текущей даты и времени.\n",
    "2. Установите библиотеку `pandas` с помощью `pip` и выполните чтение тестового CSV-файла, используя `pandas.read_csv()`.\n"
   ]
  },
  {
   "cell_type": "markdown",
   "id": "40e97406",
   "metadata": {},
   "source": [
    "## Дополнительные примеры работы с модулями и библиотеками\n",
    "\n",
    "### Использование модуля `os`\n",
    "\n",
    "Модуль `os` предоставляет множество функций для работы с операционной системой, включая работу с файловой системой.\n"
   ]
  },
  {
   "cell_type": "code",
   "execution_count": null,
   "id": "2abe8adf",
   "metadata": {},
   "outputs": [],
   "source": [
    "import os\n",
    "\n",
    "current_directory = os.getcwd()\n",
    "print(f\"Текущая рабочая директория: {current_directory}\")\n"
   ]
  },
  {
   "cell_type": "markdown",
   "id": "73c481db",
   "metadata": {},
   "source": [
    "### Использование модуля `datetime` для работы с датами и временем\n",
    "\n",
    "Модуль `datetime` предоставляет классы для работы с датами и временем. Давайте получим текущую дату и время.\n"
   ]
  },
  {
   "cell_type": "code",
   "execution_count": null,
   "id": "1538d154",
   "metadata": {},
   "outputs": [],
   "source": [
    "from datetime import datetime\n",
    "\n",
    "now = datetime.now()\n",
    "print(f\"Текущие дата и время: {now.strftime('%Y-%m-%d %H:%M:%S')}\")\n"
   ]
  },
  {
   "cell_type": "markdown",
   "id": "c4072fc9",
   "metadata": {},
   "source": [
    "## Разбор домашнего задания\n",
    "\n",
    "### 1. Получение и вывод текущей даты и времени с использованием `datetime`\n"
   ]
  },
  {
   "cell_type": "code",
   "execution_count": null,
   "id": "c119493e",
   "metadata": {},
   "outputs": [],
   "source": [
    "from datetime import datetime\n",
    "\n",
    "current_datetime = datetime.now()\n",
    "print(\"Текущая дата и время:\", current_datetime.strftime('%Y-%m-%d %H:%M:%S'))\n"
   ]
  },
  {
   "cell_type": "markdown",
   "id": "efb6567e",
   "metadata": {},
   "source": [
    "### 2. Чтение тестового CSV-файла с использованием `pandas`\n",
    "\n",
    "Для выполнения этого задания необходимо сначала установить библиотеку `pandas`. Затем можно использовать функцию `read_csv()` для чтения файла.\n"
   ]
  },
  {
   "cell_type": "code",
   "execution_count": null,
   "id": "6c6eb61a",
   "metadata": {},
   "outputs": [],
   "source": [
    "# Убедитесь, что библиотека pandas установлена\n",
    "# !pip install pandas\n",
    "\n",
    "import pandas as pd\n",
    "\n",
    "# Пример чтения файла (замените 'path/to/your/file.csv' на путь к вашему CSV-файлу)\n",
    "# df = pd.read_csv('path/to/your/file.csv')\n",
    "# print(df.head())\n"
   ]
  }
 ],
 "metadata": {},
 "nbformat": 4,
 "nbformat_minor": 5
}
