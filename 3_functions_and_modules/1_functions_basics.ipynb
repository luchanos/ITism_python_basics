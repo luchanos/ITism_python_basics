{
 "cells": [
  {
   "cell_type": "markdown",
   "id": "33ccc5d9",
   "metadata": {},
   "source": [
    "\n",
    "# Определение и вызов функций в Python\n",
    "\n",
    "В этом уроке мы рассмотрим, как определять и вызывать функции в Python, а также как работать с параметрами и возвращаемыми значениями.\n",
    "\n",
    "## Что такое функция?\n",
    "\n",
    "Функция в программировании — это блок кода, который запускается (вызывается), когда его \"имя\" указывается в программе. Это позволяет коду быть повторно использованным в различных частях программы без необходимости его дублирования.\n"
   ]
  },
  {
   "cell_type": "markdown",
   "id": "bece689c",
   "metadata": {},
   "source": [
    "\n",
    "## Определение функции\n",
    "\n",
    "Функция в Python определяется с помощью ключевого слова `def`, за которым следует имя функции и круглые скобки, которые могут содержать параметры. Тело функции начинается с новой строки и должно быть с отступом.\n",
    "    \n",
    "Пример:\n",
    "```python\n",
    "def greet(name):\n",
    "    print(f\"Hello, {name}!\")\n",
    "```\n"
   ]
  },
  {
   "cell_type": "code",
   "execution_count": null,
   "id": "5fd894d2",
   "metadata": {},
   "outputs": [],
   "source": [
    "\n",
    "# Пример определения функции\n",
    "def greet(name):\n",
    "    print(f\"Hello, {name}!\")\n"
   ]
  },
  {
   "cell_type": "markdown",
   "id": "4ca4b1e0",
   "metadata": {},
   "source": [
    "\n",
    "## Вызов функции\n",
    "\n",
    "Чтобы выполнить функцию, вы просто используете ее имя, а затем круглые скобки с аргументами (если они есть).\n",
    "\n",
    "Пример:\n",
    "```python\n",
    "greet(\"Alice\")\n",
    "```\n"
   ]
  },
  {
   "cell_type": "code",
   "execution_count": null,
   "id": "d6771bd0",
   "metadata": {},
   "outputs": [],
   "source": [
    "\n",
    "# Пример вызова функции\n",
    "greet(\"Alice\")\n"
   ]
  },
  {
   "cell_type": "markdown",
   "id": "2310c292",
   "metadata": {},
   "source": [
    "\n",
    "## Параметры и аргументы\n",
    "\n",
    "- **Параметры** — переменные, которые перечислены в определении функции.\n",
    "- **Аргументы** — значения, которые передаются функции при ее вызове.\n",
    "\n",
    "Пример с параметром:\n",
    "```python\n",
    "def add(a, b):\n",
    "    return a + b\n",
    "```\n"
   ]
  },
  {
   "cell_type": "code",
   "execution_count": null,
   "id": "25ecde47",
   "metadata": {},
   "outputs": [],
   "source": [
    "\n",
    "# Пример функции с возвращаемым значением\n",
    "def add(a, b):\n",
    "    return a + b\n",
    "\n",
    "result = add(2, 3)\n",
    "print(result)\n"
   ]
  },
  {
   "cell_type": "markdown",
   "id": "141b69b2",
   "metadata": {},
   "source": [
    "\n",
    "## Возвращаемые значения\n",
    "\n",
    "Функция может возвращать значение, которое затем может быть использовано в программе. Для этого используется ключевое слово `return`.\n",
    "\n",
    "Пример:\n",
    "```python\n",
    "def multiply(x, y):\n",
    "    return x * y\n",
    "```\n"
   ]
  },
  {
   "cell_type": "markdown",
   "id": "cb498fb5",
   "metadata": {},
   "source": [
    "\n",
    "## Домашнее задание\n",
    "\n",
    "1. Напишите функцию `calculate_average`, которая принимает список чисел и возвращает их среднее значение.\n",
    "2. Создайте функцию `is_prime`, которая проверяет, является ли число простым, и возвращает `True` или `False`.\n"
   ]
  },
  {
   "cell_type": "markdown",
   "id": "28bc1f93",
   "metadata": {},
   "source": [
    "\n",
    "## Разбор домашнего задания\n",
    "\n",
    "### Задание 1\n",
    "```python\n",
    "def calculate_average(numbers):\n",
    "    return sum(numbers) / len(numbers)\n",
    "```\n",
    "\n",
    "### Задание 2\n",
    "```python\n",
    "def is_prime(number):\n",
    "    if number < 2:\n",
    "        return False\n",
    "    for i in range(2, int(number ** 0.5) + 1):\n",
    "        if number % i == 0:\n",
    "            return False\n",
    "    return True\n",
    "```\n"
   ]
  }
 ],
 "metadata": {},
 "nbformat": 4,
 "nbformat_minor": 5
}
