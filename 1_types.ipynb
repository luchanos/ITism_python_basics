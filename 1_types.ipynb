{
 "cells": [
  {
   "cell_type": "markdown",
   "source": [
    "<h1>Переменные и типы данных в Python</h1>\n",
    "\n",
    "В этом разделе мы рассмотрим основы работы с переменными в Python, а также изучим основные типы данных: числа, строки и булевы значения. Понимание этих основ является краеугольным камнем для успешного освоения программирования на Python.\n",
    "\n",
    "<h2>Переменные</h2>\n",
    "\n",
    "Переменная в Python — это контейнер для хранения данных, значение которого можно изменять в процессе выполнения программы. Имена переменных должны начинаться с буквы или подчеркивания и могут содержать буквы, цифры и подчеркивания. Python является языком с динамической типизацией, что означает, что тип переменной определяется автоматически в момент присваивания ей значения."
   ],
   "metadata": {
    "collapsed": false
   }
  },
  {
   "cell_type": "code",
   "execution_count": 5,
   "outputs": [],
   "source": [
    "x = 5        # Целое число (int)\n",
    "y = 3.14     # Вещественное число (float)\n",
    "name = \"Alice\" # Строка (str)\n",
    "is_online = True # Булево значение (bool)"
   ],
   "metadata": {
    "collapsed": false,
    "ExecuteTime": {
     "end_time": "2024-02-15T21:14:39.332726Z",
     "start_time": "2024-02-15T21:14:39.320435Z"
    }
   }
  },
  {
   "cell_type": "markdown",
   "source": [
    "<h3>Числа</h3>\n",
    "\n",
    "В Python есть два основных типа чисел:\n",
    "- Целые числа (int) представляют собой положительные или отрицательные целые числа без десятичной части.\n",
    "- Вещественные числа (float): это числа с десятичной точкой или в экспоненциальной форме."
   ],
   "metadata": {
    "collapsed": false
   }
  },
  {
   "cell_type": "code",
   "execution_count": 6,
   "outputs": [],
   "source": [
    "integer_example = 10      # Пример целого числа\n",
    "float_example = 20.5      # Пример вещественного числа"
   ],
   "metadata": {
    "collapsed": false,
    "ExecuteTime": {
     "end_time": "2024-02-15T21:16:31.921494Z",
     "start_time": "2024-02-15T21:16:31.920122Z"
    }
   }
  },
  {
   "cell_type": "markdown",
   "source": [
    "<h3>Строки</h3>\n",
    "\n",
    "Строки в Python определяются как последовательности символов и заключаются в одинарные ('...') или двойные (\"...\") кавычки. Для многострочного текста можно использовать тройные кавычки ('''...''' или \"\"\"...\"\"\")."
   ],
   "metadata": {
    "collapsed": false
   }
  },
  {
   "cell_type": "code",
   "execution_count": 7,
   "outputs": [],
   "source": [
    "single_quote_str = 'Привет, мир!'\n",
    "double_quote_str = \"Привет, мир!\"\n",
    "multi_line_str = \"\"\"Это\n",
    "многострочная\n",
    "строка\"\"\""
   ],
   "metadata": {
    "collapsed": false,
    "ExecuteTime": {
     "end_time": "2024-02-15T21:17:37.692725Z",
     "start_time": "2024-02-15T21:17:37.683655Z"
    }
   }
  },
  {
   "cell_type": "markdown",
   "source": [
    "Строки в Python поддерживают конкатенацию (+), повторение (*) и множество других операций и методов, что делает работу со строками гибкой и удобной."
   ],
   "metadata": {
    "collapsed": false
   }
  },
  {
   "cell_type": "code",
   "execution_count": null,
   "outputs": [],
   "source": [],
   "metadata": {
    "collapsed": false
   }
  }
 ],
 "metadata": {
  "kernelspec": {
   "display_name": "Python 3",
   "language": "python",
   "name": "python3"
  },
  "language_info": {
   "codemirror_mode": {
    "name": "ipython",
    "version": 2
   },
   "file_extension": ".py",
   "mimetype": "text/x-python",
   "name": "python",
   "nbconvert_exporter": "python",
   "pygments_lexer": "ipython2",
   "version": "2.7.6"
  }
 },
 "nbformat": 4,
 "nbformat_minor": 0
}
