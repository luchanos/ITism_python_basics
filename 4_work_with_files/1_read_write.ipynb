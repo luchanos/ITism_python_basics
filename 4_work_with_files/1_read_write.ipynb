{
 "cells": [
  {
   "cell_type": "markdown",
   "id": "55b7935d",
   "metadata": {},
   "source": [
    "# Работа с файлами в Python\n",
    "\n",
    "В этом ноутбуке мы рассмотрим, как в Python выполнять основные операции по работе с файлами: чтение из файла и запись в файл.\n"
   ]
  },
  {
   "cell_type": "markdown",
   "id": "b8ea140b",
   "metadata": {},
   "source": [
    "## Чтение из файла\n",
    "\n",
    "Для чтения содержимого файла в Python используется функция `open()` с режимом `'r'` (по умолчанию).\n"
   ]
  },
  {
   "cell_type": "code",
   "execution_count": null,
   "id": "f0716e41",
   "metadata": {},
   "outputs": [],
   "source": [
    "# Чтение всего файла целиком\n",
    "with open('example.txt', 'r') as file:\n",
    "    content = file.read()\n",
    "    print(content)\n"
   ]
  },
  {
   "cell_type": "code",
   "execution_count": null,
   "id": "42d7b3c9",
   "metadata": {},
   "outputs": [],
   "source": [
    "# Построчное чтение файла\n",
    "with open('example.txt', 'r') as file:\n",
    "    for line in file:\n",
    "        print(line.strip())\n"
   ]
  },
  {
   "cell_type": "markdown",
   "id": "afba11a5",
   "metadata": {},
   "source": [
    "## Запись в файл\n",
    "\n",
    "Для записи в файл используется функция `open()` с режимом `'w'` для записи (существующий файл будет перезаписан) или `'a'` для добавления в конец файла.\n"
   ]
  },
  {
   "cell_type": "code",
   "execution_count": null,
   "id": "9e2b6e1a",
   "metadata": {},
   "outputs": [],
   "source": [
    "# Запись строки в файл\n",
    "with open('example_write.txt', 'w') as file:\n",
    "    file.write('Hello, World!\\n')\n"
   ]
  },
  {
   "cell_type": "code",
   "execution_count": null,
   "id": "fcc41f39",
   "metadata": {},
   "outputs": [],
   "source": [
    "# Добавление строки в файл\n",
    "with open('example_write.txt', 'a') as file:\n",
    "    file.write('Another line.')\n"
   ]
  },
  {
   "cell_type": "markdown",
   "id": "cebf23c4",
   "metadata": {},
   "source": [
    "## Домашнее задание\n",
    "\n",
    "1. Напишите скрипт для чтения файла `data.txt`, который содержит список чисел, разделенных пробелами, и распечатайте сумму этих чисел.\n",
    "2. Создайте скрипт, который запрашивает у пользователя строки (до ввода слова \"stop\") и записывает их в файл `input.txt`. Если файл уже существует, он должен быть перезаписан.\n"
   ]
  },
  {
   "cell_type": "markdown",
   "id": "b23138fb",
   "metadata": {},
   "source": [
    "## Разбор домашнего задания\n"
   ]
  },
  {
   "cell_type": "code",
   "execution_count": null,
   "id": "125fabcb",
   "metadata": {},
   "outputs": [],
   "source": [
    "# Задание 1\n",
    "with open('data.txt', 'r') as file:\n",
    "    numbers = file.read().split()\n",
    "    total = sum(map(int, numbers))\n",
    "    print(f\"Сумма чисел: {total}\")\n"
   ]
  },
  {
   "cell_type": "code",
   "execution_count": null,
   "id": "1527f1a0",
   "metadata": {},
   "outputs": [],
   "source": [
    "# Задание 2\n",
    "with open('input.txt', 'w') as file:\n",
    "    while True:\n",
    "        user_input = input(\"Введите строку (или 'stop' для завершения): \")\n",
    "        if user_input.lower() == 'stop':\n",
    "            break\n",
    "        file.write(user_input + '\\n')\n"
   ]
  }
 ],
 "metadata": {},
 "nbformat": 4,
 "nbformat_minor": 5
}
